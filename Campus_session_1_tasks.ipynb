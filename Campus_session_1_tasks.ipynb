{
  "nbformat": 4,
  "nbformat_minor": 0,
  "metadata": {
    "colab": {
      "provenance": [],
      "include_colab_link": true
    },
    "kernelspec": {
      "name": "python3",
      "display_name": "Python 3"
    },
    "language_info": {
      "name": "python"
    }
  },
  "cells": [
    {
      "cell_type": "markdown",
      "metadata": {
        "id": "view-in-github",
        "colab_type": "text"
      },
      "source": [
        "<a href=\"https://colab.research.google.com/github/puneetsinha/puneetsinha/blob/main/Campus_session_1_tasks.ipynb\" target=\"_parent\"><img src=\"https://colab.research.google.com/assets/colab-badge.svg\" alt=\"Open In Colab\"/></a>"
      ]
    },
    {
      "cell_type": "markdown",
      "source": [
        "# Task : Session 1\n",
        "Solve these questions own your own and try to test yourself what you have learned in the session.\n",
        "\n",
        "Happy Learning!"
      ],
      "metadata": {
        "id": "A05OG15VqOPF"
      }
    },
    {
      "cell_type": "markdown",
      "source": [
        "### Q1 :- Print the given strings as per stated format.\n",
        "\n",
        "**Given strings**:\n",
        "```\n",
        "\"Data\" \"Science\" \"Mentorship\" \"Program\"\n",
        "\"By\" \"CampusX\"\n",
        "```\n",
        "**Output**:\n",
        "```\n",
        "Data-Science-Mentorship-Program-started-By-CampusX\n",
        "```\n",
        "\n",
        "Concept- [Seperator and End]"
      ],
      "metadata": {
        "id": "2doIXf8bqe9_"
      }
    },
    {
      "cell_type": "code",
      "source": [
        "# Write your code here\n",
        "l=[\"Data\",\"Science\" ,\"Mentorship\" ,\"Program\"\n",
        "\"By\", \"CampusX\"]\n",
        "print('-'.join(l))"
      ],
      "metadata": {
        "id": "-em6d3KErDtp",
        "outputId": "0688e1a4-bab7-49d2-bee7-60e5a30d8bed",
        "colab": {
          "base_uri": "https://localhost:8080/"
        }
      },
      "execution_count": 1,
      "outputs": [
        {
          "output_type": "stream",
          "name": "stdout",
          "text": [
            "Data-Science-Mentorship-ProgramBy-CampusX\n"
          ]
        }
      ]
    },
    {
      "cell_type": "markdown",
      "source": [
        "### Q2:- Write a program that will convert celsius value to fahrenheit."
      ],
      "metadata": {
        "id": "1KUpN7ZTrC3_"
      }
    },
    {
      "cell_type": "code",
      "source": [
        "# Write your code here\n",
        "celsius=int(input(\"Enter the celcius values\"))\n",
        "print((celsius*(9/5))+32)"
      ],
      "metadata": {
        "id": "yxKYhYQiqWfj",
        "outputId": "99656fdc-638d-4c7b-8951-b2b8677e3608",
        "colab": {
          "base_uri": "https://localhost:8080/"
        }
      },
      "execution_count": 3,
      "outputs": [
        {
          "output_type": "stream",
          "name": "stdout",
          "text": [
            "Enter the celcius values25\n",
            "77.0\n"
          ]
        }
      ]
    },
    {
      "cell_type": "markdown",
      "source": [
        "### Q3:- Take 2 numbers as input from the user.Write a program to swap the numbers without using any special python syntax."
      ],
      "metadata": {
        "id": "RLrOBBJurLB2"
      }
    },
    {
      "cell_type": "code",
      "source": [
        "# Write your code here\n",
        "a=int(input())\n",
        "b=int(input())\n",
        "print(\"Value of a andb are :\" ,a,b)\n",
        "b,a=a,b\n",
        "print(\"after swap a and b are :\", a,b)"
      ],
      "metadata": {
        "id": "yPn7if0TrJ4F",
        "outputId": "151201c5-4346-4a3d-8b55-188b1c0923de",
        "colab": {
          "base_uri": "https://localhost:8080/"
        }
      },
      "execution_count": 5,
      "outputs": [
        {
          "output_type": "stream",
          "name": "stdout",
          "text": [
            "12\n",
            "10\n",
            "Value of a andb are : 12 10\n",
            "after swap a and b are : 10 12\n"
          ]
        }
      ]
    },
    {
      "cell_type": "markdown",
      "source": [
        "### Q4:- Write a program to find the euclidean distance between two coordinates.Take both the coordinates from the user as input."
      ],
      "metadata": {
        "id": "waLCP1bjr7ML"
      }
    },
    {
      "cell_type": "code",
      "source": [
        "# Write your code here\n",
        "import numpy as np\n",
        "X1=int(input(\"enter X1\"))\n",
        "Y1=int(input(\"enter Y1\"))\n",
        "X2=int(input(\"enter X2\"))\n",
        "Y2=int(input(\"enter Y2\"))\n",
        "Distance=np.sqrt((X2-X1)^2 + (Y2-Y1)^2)\n",
        "print(\"Distance is \",Distance)"
      ],
      "metadata": {
        "id": "Pl1Sv-xnrxnH",
        "outputId": "d3f373b6-db68-4508-b132-c981cc9460ef",
        "colab": {
          "base_uri": "https://localhost:8080/"
        }
      },
      "execution_count": 6,
      "outputs": [
        {
          "output_type": "stream",
          "name": "stdout",
          "text": [
            "enter X10\n",
            "enter Y14\n",
            "enter X26\n",
            "enter Y22\n",
            "Distance is  2.0\n"
          ]
        }
      ]
    },
    {
      "cell_type": "markdown",
      "source": [
        "### Q5:- Write a program to find the simple interest when the value of principle,rate of interest and time period is provided by the user.\n"
      ],
      "metadata": {
        "id": "VLrhg-FRsHjR"
      }
    },
    {
      "cell_type": "code",
      "source": [
        "# Write your code here\n",
        "P=int(input(\"Enter the Principal amount\"))\n",
        "R=float(input(\"enter the rate of interest\"))\n",
        "T=int(input(\"Enter the time period\"))\n",
        "Interest=(P*R*T)/100\n",
        "print(\"Interest\", Interest)"
      ],
      "metadata": {
        "id": "s40DlReZsTmY",
        "outputId": "87b78ef7-9e0c-40a0-ee71-5686cfd1d71d",
        "colab": {
          "base_uri": "https://localhost:8080/"
        }
      },
      "execution_count": 9,
      "outputs": [
        {
          "output_type": "stream",
          "name": "stdout",
          "text": [
            "Enter the Principal amount100000\n",
            "enter the rate of interest10\n",
            "Enter the time period1\n",
            "Interest 10000.0\n"
          ]
        }
      ]
    },
    {
      "cell_type": "markdown",
      "source": [
        "### Q6:- Write a program that will tell the number of dogs and chicken are there when the user will provide the value of total heads and legs.\n",
        "\n",
        "For example:\n",
        "Input:\n",
        "heads -> 4\n",
        "legs -> 12\n",
        "<br>\n",
        "Output:\n",
        "dogs -> 2\n",
        "chicken -> 2\n",
        "\n",
        "\n",
        "\n"
      ],
      "metadata": {
        "id": "LMy0BTUktYKa"
      }
    },
    {
      "cell_type": "code",
      "source": [
        "# Write your code here"
      ],
      "metadata": {
        "id": "XSBvJoA4tXaG"
      },
      "execution_count": null,
      "outputs": []
    },
    {
      "cell_type": "markdown",
      "source": [
        "### Q7:- Write a program to find the sum of squares of first n natural numbers where n will be provided by the user."
      ],
      "metadata": {
        "id": "gJ7C5kZYt4BP"
      }
    },
    {
      "cell_type": "code",
      "source": [
        "# Write your code here"
      ],
      "metadata": {
        "id": "_tHsmEHzt2nX"
      },
      "execution_count": null,
      "outputs": []
    },
    {
      "cell_type": "markdown",
      "source": [
        "### Q8:- Given the first 2 terms of an Arithmetic Series.Find the Nth term of the series. Assume all inputs are provided by the user."
      ],
      "metadata": {
        "id": "FHrMM7g-yG1h"
      }
    },
    {
      "cell_type": "code",
      "source": [
        "# Write your code here\n",
        "a1 = float(input(\"Enter the first term (a1): \"))\n",
        "a2 = float(input(\"Enter the second term (a2): \"))\n",
        "n = int(input(\"Enter the position of the term (n): \"))\n",
        "\n",
        "d = a2 - a1\n",
        "\n",
        "an = a1 + (n - 1) * d\n",
        "\n",
        "# Print the result\n",
        "print(f\"The {n}th term of the arithmetic series is: {an}\")"
      ],
      "metadata": {
        "id": "go4_kmZmyVSx",
        "outputId": "70946520-e909-4f99-bac2-1133b406bb7d",
        "colab": {
          "base_uri": "https://localhost:8080/"
        }
      },
      "execution_count": 10,
      "outputs": [
        {
          "output_type": "stream",
          "name": "stdout",
          "text": [
            "Enter the first term (a1): 4\n",
            "Enter the second term (a2): 9\n",
            "Enter the position of the term (n): 10\n",
            "The 10th term of the arithmetic series is: 49.0\n"
          ]
        }
      ]
    },
    {
      "cell_type": "markdown",
      "source": [
        "### Q9:- Given 2 fractions, find the sum of those 2 fractions.Take the numerator and denominator values of the fractions from the user."
      ],
      "metadata": {
        "id": "QgyRX_es1oum"
      }
    },
    {
      "cell_type": "code",
      "source": [
        "# Write your code here\n"
      ],
      "metadata": {
        "id": "X05xqFS1yW16"
      },
      "execution_count": null,
      "outputs": []
    },
    {
      "cell_type": "markdown",
      "source": [
        "### Q10:- Given the height, width and breadth of a milk tank, you have to find out how many glasses of milk can be obtained? Assume all the inputs are provided by the user.\n",
        "\n",
        "\n",
        "\n",
        "Input:<br>\n",
        "Dimensions of the milk tank<br>\n",
        "H = 20cm, L = 20cm, B = 20cm\n",
        "<br><br>\n",
        "Dimensions of the glass<br>\n",
        "h = 3cm, r = 1cm"
      ],
      "metadata": {
        "id": "eaql38ln13u7"
      }
    },
    {
      "cell_type": "code",
      "source": [
        "# Write your code here\n",
        "H=20\n",
        "L=20\n",
        "B=20\n",
        "\n",
        "h=3\n",
        "r=1\n",
        "\n",
        "MilkAreas=H*L*B\n",
        "\n",
        "glassArea=(22*r*r*h)/7\n",
        "\n",
        "print(f\"Milk tank is {MilkAreas} and glass is {glassArea} so required glasses \" ,MilkAreas/glassArea)\n"
      ],
      "metadata": {
        "id": "FePZqno74eWv",
        "outputId": "dc55d71a-440b-4964-8d8e-97ee6af47d07",
        "colab": {
          "base_uri": "https://localhost:8080/"
        }
      },
      "execution_count": 13,
      "outputs": [
        {
          "output_type": "stream",
          "name": "stdout",
          "text": [
            "Milk tank is 8000 and glass is 9.428571428571429 so required glasses  848.4848484848485\n"
          ]
        }
      ]
    }
  ]
}